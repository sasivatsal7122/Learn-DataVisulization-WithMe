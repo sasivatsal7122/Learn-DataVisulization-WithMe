{
 "cells": [
  {
   "cell_type": "markdown",
   "id": "afb6b1e7",
   "metadata": {},
   "source": [
    "<h1 style=\"text-align:center\">Learn-DataVisulization-WithMe</h1>\n",
    "\n",
    "<h4 style=\"text-align:center\">Authored By B.Sasi Vatsal</h4>\n"
   ]
  },
  {
   "cell_type": "markdown",
   "id": "0fa1419d",
   "metadata": {},
   "source": [
    "![title](https://ubiq.co/analytics-blog/wp-content/uploads/2020/03/principles-good-data-visualization-design.png)"
   ]
  },
  {
   "cell_type": "markdown",
   "id": "943808f0",
   "metadata": {},
   "source": [
    "### Welcome to the Part-1 of the Learn-DataVisulization-WithMe series, in this notebook we will be discussing different plotting techniques in matplotlib library through famous Iris Dataset in a very understandable and easy way, Let's digin "
   ]
  },
  {
   "cell_type": "markdown",
   "id": "121e2d7e",
   "metadata": {},
   "source": [
    "## Importing Libraries"
   ]
  },
  {
   "cell_type": "code",
   "execution_count": null,
   "id": "0c788306",
   "metadata": {},
   "outputs": [],
   "source": [
    "import pandas as pd\n",
    "import numpy as np\n",
    "from sklearn import datasets\n",
    "import matplotlib.pyplot as plt\n",
    "%matplotlib inline"
   ]
  },
  {
   "cell_type": "markdown",
   "id": "e4bd92e5",
   "metadata": {},
   "source": [
    "## Loading the Iris Dataset"
   ]
  },
  {
   "cell_type": "code",
   "execution_count": null,
   "id": "35950461",
   "metadata": {},
   "outputs": [],
   "source": [
    "iris = datasets.load_iris()\n",
    "iris"
   ]
  },
  {
   "cell_type": "markdown",
   "id": "66dcd971",
   "metadata": {},
   "source": [
    "### Classifying the Iris Dataset"
   ]
  },
  {
   "cell_type": "code",
   "execution_count": null,
   "id": "edf90f78",
   "metadata": {},
   "outputs": [],
   "source": [
    "# contains the length and width of sepal and petal\n",
    "iris_x = iris['data']\n",
    "# contain the flower species (0,1,2) --> setosa,versicolor,virginica\n",
    "iris_y = iris['target']\n",
    "# iris_y_labels contains ['sepal length (cm)','sepal width (cm)''petal length (cm)','petal width (cm)']\n",
    "iris_x_labels = iris['feature_names']\n",
    "# iris_y_labels contains ['setosa', 'versicolor', 'virginica']\n",
    "iris_y_labels = iris['target_names']"
   ]
  },
  {
   "cell_type": "markdown",
   "id": "a9b776ce",
   "metadata": {},
   "source": [
    "### Dividing the obtained data into respective species"
   ]
  },
  {
   "cell_type": "code",
   "execution_count": null,
   "id": "85a218fa",
   "metadata": {},
   "outputs": [],
   "source": [
    "# we have 3 different species in the iris datset i.e theree different kinds of\n",
    "# flowers belonging to iris family namely setosa,versicolor and virginica\n",
    "\n",
    "# setosa is the first kind and represented as 0 in the iris datset \n",
    "setosa = np.where(iris_y == 0)\n",
    "\n",
    "# versicolor is the second kind and represented as 1 in the iris datset \n",
    "versicolor = np.where(iris_y == 1)\n",
    "\n",
    "# virginica is the third kind and represented as 2 in the iris datset \n",
    "virginica = np.where(iris_y == 2)"
   ]
  },
  {
   "cell_type": "markdown",
   "id": "dd7b26f2",
   "metadata": {},
   "source": [
    "# DataVisualization"
   ]
  },
  {
   "cell_type": "markdown",
   "id": "02e77124",
   "metadata": {},
   "source": [
    "## 1. Bar Chart"
   ]
  },
  {
   "cell_type": "markdown",
   "id": "3b21a645",
   "metadata": {},
   "source": [
    "A bar graph is a graphical representation of data in which we can highlight the category with particular shapes like a rectangle. The length and heights of the bar chart represent the data distributed in the dataset. In a bar chart, we have one axis representing a particular category of a column in the dataset and another axis representing the values or counts associated with it.  Bar charts can be plotted vertically or horizontally. A vertical bar chart is often called a column chart. When we arrange bar charts in a high to low-value counts manner, we called them Pareto charts."
   ]
  },
  {
   "cell_type": "code",
   "execution_count": null,
   "id": "3b5b073c",
   "metadata": {},
   "outputs": [],
   "source": [
    "# computing the means of features of respective species\n",
    "mean_of_setosa = iris_x[setosa].mean(axis=0)\n",
    "mean_of_versicolor = iris_x[versicolor].mean(axis=0)\n",
    "mean_of_virginica = iris_x[virginica].mean(axis=0)"
   ]
  },
  {
   "cell_type": "code",
   "execution_count": null,
   "id": "cc7e3712",
   "metadata": {},
   "outputs": [],
   "source": [
    "# determining the color of our bar chart\n",
    "cmap = plt.cm.magma\n",
    "color = [cmap(0.2),cmap(0.3),cmap(0.4)]"
   ]
  },
  {
   "cell_type": "code",
   "execution_count": null,
   "id": "68cd362b",
   "metadata": {},
   "outputs": [],
   "source": [
    "figure,  ax = plt.subplots(2,2,sharex=True,sharey=True,figsize=(20,20))\n",
    "for i,feat in enumerate(iris_x_labels):\n",
    "    axes = ax[int(i/2),i%2]\n",
    "    axes.bar([0,1,2],[mean_of_setosa[i],mean_of_versicolor[i],mean_of_virginica[i]],color=color)\n",
    "    axes.set_title(iris_x_labels[i],size=30)\n",
    "    axes.set_xticks([0,1,2])\n",
    "    axes.set_xticklabels(iris_y_labels,size=40)\n",
    "figure.suptitle(\"Averge feature values per respective species\",size=60,y=1)\n",
    "figure.tight_layout()"
   ]
  },
  {
   "cell_type": "markdown",
   "id": "02b53bdf",
   "metadata": {},
   "source": [
    "## 2. PieChart"
   ]
  },
  {
   "cell_type": "markdown",
   "id": "2da579e9",
   "metadata": {},
   "source": [
    "A pie chart is a type of a chart that visually displays data in a circular graph. It is one of the most commonly used graphs to represent data using the attributes of circles, spheres, and angular data to represent real-world information. The shape of a pie chart is circular where the pie represents the whole data and the slice out of the pie represents the parts of the data and records it discretely.\n",
    "Pie charts, also commonly known as pie diagrams help in interpreting and representing the data more clearly. It is also used to compare the given data."
   ]
  },
  {
   "cell_type": "code",
   "execution_count": null,
   "id": "143d88fa",
   "metadata": {},
   "outputs": [],
   "source": [
    "# lets see the percentage of each flower species in the datset\n",
    "# for the we are gonna make use of numpy unique method and count method to obtain no.of unique\n",
    "# values and also count of the unqiue values repectievely\n",
    "(unique, counts) = np.unique(iris_y,return_counts=True)\n",
    "# setting figure size to make our pie chart look bigger\n",
    "plt.figure(figsize=(10,10))\n",
    "# making the piechart\n",
    "plt.pie(counts,labels=iris_y_labels,shadow=True,explode=(0.05,0,0),autopct='%.1f%%')\n",
    "# we can observe every species is equal in size i.e there are 50 records of each flower \n",
    "# in total of 150 records of floweres"
   ]
  },
  {
   "cell_type": "markdown",
   "id": "cd0fc047",
   "metadata": {},
   "source": [
    "#### Bonus ( Styling our piechart )"
   ]
  },
  {
   "cell_type": "code",
   "execution_count": null,
   "id": "cc202e0f",
   "metadata": {},
   "outputs": [],
   "source": [
    "plt.figure(figsize=(10,10))\n",
    "plt.pie(counts,labels=iris_y_labels,autopct='%.1f%%',textprops={'fontsize':17}, wedgeprops={'edgecolor':'#ffffff'})\n",
    "# previously we increased the font size and added little bling to the chart with white color edges\n",
    "# now lets make our chart into a donut cozz why not...\n",
    "circle = plt.Circle(xy=(0,0),radius=0.8,color='white')\n",
    "# gca = get current axis, this method get the current working figure \n",
    "plt.gca().add_artist(circle)\n",
    "# finally lets add a title to our donut\n",
    "plt.title('Class Distribution of IRIS DataPoints',fontsize=25)\n",
    "# whoo that's our unique looking donut graph, remmber this is actually a donut, we just overlayed an\n",
    "# white circle with center at (0,0) and radius 0.8 on the top of our pie chart"
   ]
  },
  {
   "cell_type": "markdown",
   "id": "f083ee2b",
   "metadata": {},
   "source": [
    "## 3. Scatter Plot"
   ]
  },
  {
   "cell_type": "markdown",
   "id": "ffdacb5d",
   "metadata": {},
   "source": [
    "A scatter plot is a chart type that is normally used to observe and visually display the relationship between variables. The values of the variables are represented by dots. The positioning of the dots on the vertical and horizontal axis will inform the value of the respective data point; hence, scatter plots make use of Cartesian coordinates to display the values of the variables in a data set. Scatter plots are also known as scattergrams, scatter graphs, or scatter charts.\n",
    "\n",
    "scatter plots are used for:\n",
    "1. Demonstration of the relationship between two variables\n",
    "2. Identification of correlational relationships\n",
    "3. Identification of data patterns\n"
   ]
  },
  {
   "cell_type": "code",
   "execution_count": null,
   "id": "c1a9acd4",
   "metadata": {},
   "outputs": [],
   "source": [
    "# importing the func formatter\n",
    "from matplotlib.ticker import FuncFormatter"
   ]
  },
  {
   "cell_type": "code",
   "execution_count": null,
   "id": "cc14cd55",
   "metadata": {},
   "outputs": [],
   "source": [
    "# don't worry about this as now we will see the use of funcformatter in next cell\n",
    "\n",
    "# basically funcformatter is used to label the color bar in the scatter plot\n",
    "# we want names of species in the iris dataset so here we are making use of a lamba func \n",
    "# which gets the values of different spcies names by iterating through iris_y_labels we made earlier \n",
    "formatss = FuncFormatter(lambda s, i:iris_y_labels[s])"
   ]
  },
  {
   "cell_type": "code",
   "execution_count": null,
   "id": "759a939c",
   "metadata": {},
   "outputs": [],
   "source": [
    "?plt.scatter"
   ]
  },
  {
   "cell_type": "code",
   "execution_count": null,
   "id": "b5ce1e54",
   "metadata": {},
   "outputs": [],
   "source": [
    "# remember the drill right? setting the plot size\n",
    "plt.figure(figsize=(10,10))\n",
    "# for scatter plot we use scatter method, then we pass x & y axes variables\n",
    "# additionally u can set color using c and edge color etc, for more info run --> ?plt.scatter in the above cel\n",
    "plt.scatter(iris_x[:,2],iris_x[:,3],c=iris_y,edgecolor='black')\n",
    "plt.xlabel(iris_x_labels[2],size=20)\n",
    "plt.ylabel(iris_x_labels[3],size=20)\n",
    "# making the color bar, ticks is used to restrict the color bar to certain values\n",
    "# in our case they are 0,1,2 i.e the id's of our flowers\n",
    "plt.colorbar(ticks=[0,1,2], format=formatss)\n",
    "# giving it a title, found from stackoverflow that after new upadte in matplotlib \n",
    "# now we can give padding to out title using pad argument\n",
    "plt.title(\"Respective Petal width by height of different species\",size=25,pad=25)\n",
    "\n",
    "# that being said we can clearly observer and conclude that setosa has the least petal size\n",
    "# followed by versicolor and largest petal size among the group is virginicas"
   ]
  },
  {
   "cell_type": "markdown",
   "id": "90d89621",
   "metadata": {},
   "source": [
    "## Bonus : 3-Dimensional Scatter Plot"
   ]
  },
  {
   "cell_type": "code",
   "execution_count": null,
   "id": "a8989bdb",
   "metadata": {},
   "outputs": [],
   "source": [
    "# 2D is boring so lets make our scatter plot 3D which also takes 3 variables, it look so beautiful,\n",
    "# promising and very informative \n",
    "\n",
    "# for 3d plotting we need to import the following class\n",
    "from mpl_toolkits.mplot3d import Axes3D"
   ]
  },
  {
   "cell_type": "code",
   "execution_count": null,
   "id": "13064945",
   "metadata": {},
   "outputs": [],
   "source": [
    "# again same defining our fig size\n",
    "figure = plt.figure(figsize=(20,20))\n",
    "\n",
    "# this step is crucial, here we will be making an object of the class Axes3D\n",
    "\n",
    "# here elev is used to determine the elevation and azim is used to determine the angle of z axis\n",
    "# try toggling the values of elev and azim its so fun\n",
    "three_d_scatter_var = Axes3D(figure,elev=-160,azim=150)\n",
    "# petal width\n",
    "three_d_scatter_var.set_xlabel(iris_x_labels[2],size=30)\n",
    "# petal length\n",
    "three_d_scatter_var.set_ylabel(iris_x_labels[3],size=30)\n",
    "# sepal length, ik there is also sepal width but we can max plot 3d coz 4d isn't discovered yet lol\n",
    "three_d_scatter_var.set_zlabel(iris_x_labels[0],size=30)\n",
    "\n",
    "# plotting the sactter plot by passing the three variables\n",
    "scatter_plot_3d = three_d_scatter_var.scatter(iris_x[:,2],iris_x[:,3],iris_x[:,0], edgecolor='black',c=iris_y,s=80)\n",
    "# here we are storing the species names into marker\n",
    "markers,sasi = scatter_plot_3d.legend_elements()\n",
    "# making the legend\n",
    "legend = three_d_scatter_var.legend(markers,iris_y_labels,loc='upper left',title='Species', prop={'size': 30})\n",
    "# overlaying our legend on the plot or simply placing our legend on the plot\n",
    "three_d_scatter_var.add_artist(legend)\n",
    "\n",
    "# yeahh! that's our 3D scatter plot , each individual dot represents a flower, by each dot we can know\n",
    "# a flowers petal width and height and its sepal length"
   ]
  },
  {
   "cell_type": "markdown",
   "id": "9e3ff241",
   "metadata": {},
   "source": [
    "## 4.BoxPlot"
   ]
  },
  {
   "cell_type": "code",
   "execution_count": null,
   "id": "3bac1ce6",
   "metadata": {},
   "outputs": [],
   "source": [
    "plt.figure(figsize=(20,10))\n",
    "# making the boxplot using boxplot function\n",
    "plt.boxplot(iris_x,labels=iris_x_labels,vert=False)\n",
    "# increasing the font size in x and y axes using x and yticks method\n",
    "plt.yticks(fontsize=25)\n",
    "plt.xticks(fontsize=25)\n",
    "# giving our box plot a title\n",
    "plt.title(\"Species Features\",size=50,pad=50)\n",
    "\n",
    "# here in box plot we illustrated the median, min and maz sizes of indivdual observations\n",
    "# of sepal, petal width and height\n",
    "\n",
    "# the min width of petal is around 0.2 and max is somewhere near =~2.6\n",
    "# likewise we can conclude for other parameters as well, boxplot is a handy feature for \n",
    "# feature analysis"
   ]
  },
  {
   "cell_type": "markdown",
   "id": "6d257c60",
   "metadata": {},
   "source": [
    "## 5. Violin Plot"
   ]
  },
  {
   "cell_type": "markdown",
   "id": "327c81a2",
   "metadata": {},
   "source": [
    "A violin plot is a hybrid of a box plot and a kernel density plot, which shows peaks in the data. It is used to visualize the distribution of numerical data. The box plot is an old standby for visualizing basic distributions. It's convenient for comparing summary statistics (such as range and quartiles), but it doesn't let you see variations in the data. For multimodal distributions (those with multiple peaks) this can be particularly limiting.Unlike a box plot that can only show summary statistics, violin plots depict summary statistics and the density of each variable.Sometimes the median and mean aren't enough to understand a dataset.kernel density estimation to show the distribution shape of the data. Wider sections of the violin plot represent a higher probability that members of the population will take on the given value; the skinnier sections represent a lower probability."
   ]
  },
  {
   "cell_type": "code",
   "execution_count": null,
   "id": "1b3efd32",
   "metadata": {},
   "outputs": [],
   "source": [
    "plt.figure(figsize=(20,10))\n",
    "# making the violin plot and also making it horizontal\n",
    "plt.violinplot(iris_x,vert=False)\n",
    "# routine steps giving y axis names and increasing size\n",
    "plt.yticks([1,2,3,4],iris_x_labels,size=26)\n",
    "# increasing the x axis font size\n",
    "plt.xticks(size=26)\n",
    "# giving out violin plot title\n",
    "plt.title(\"Feature Distribution\",size=50,pad=50)\n",
    "\n",
    "\n",
    "# here by violin plot we can conclude that where flowers have more frequency in respective features \n",
    "# or we can conclude where flowers have majority propertiee lies in the range\n",
    "# i'm pretty bad at xplaining this but let be clear\n",
    "# observe the shape of petal width some regions have more width then other\n",
    "# regions with more width are regions where most of the observation lie, i.e we can say most of the flower\n",
    "# have some x width for sure.\n",
    "# same goes for the petal length, sepal width and length\n",
    "\n",
    "# the regions having more width has the highest frequency and contains most of the points and \n",
    "# vice versa for less width regions"
   ]
  },
  {
   "cell_type": "markdown",
   "id": "02cc8a14",
   "metadata": {},
   "source": [
    "### Bonus : Styling Violin Plot"
   ]
  },
  {
   "cell_type": "code",
   "execution_count": null,
   "id": "689f68d9",
   "metadata": {},
   "outputs": [],
   "source": [
    "quar1,med,quart3 = np.percentile(iris_x,[25,50,75],axis=0)"
   ]
  },
  {
   "cell_type": "code",
   "execution_count": null,
   "id": "7ffae025",
   "metadata": {},
   "outputs": [],
   "source": [
    "plt.figure(figsize=(20,10))\n",
    "# making the violin plot and also making it horizontal\n",
    "# pt is dictionary object containing all the features of our violin plot\n",
    "pt = plt.violinplot(iris_x,vert=False)\n",
    "\n",
    "# we traverse through the values of the key 'bodies' and change some of it's default features\n",
    "for vpfeature in pt['bodies']:\n",
    "    # changes the color of violin\n",
    "    vpfeature.set_facecolor(\"#53B8BB\")\n",
    "    # chnages the contour i.e the border\n",
    "    vpfeature.set_edgecolor(\"#FF4C29\")\n",
    "    # makes violin darker by overlaying a alpha layer on top of violin\n",
    "    vpfeature.set_alpha(0.5)\n",
    "\n",
    "plt.yticks([1,2,3,4],iris_x_labels,size=26)\n",
    "# increasing the x axis font size\n",
    "plt.xticks(size=26)\n",
    "plt.gca().scatter(med,[1,2,3,4],color=\"#082032\",s=60)\n",
    "# giving out violin plot title\n",
    "plt.title(\"Feature Distribution\",size=50,pad=50)\n",
    "\n",
    "\n",
    "# voila we styled our violin plot to make it look good aesthetically\n",
    "# there are ton of ways u can customize you're violin depending on you're creativity\n",
    "# explore them by googling on you're own you'll new things during the research journey"
   ]
  },
  {
   "cell_type": "markdown",
   "id": "ba8763ec",
   "metadata": {},
   "source": [
    "# Thank you , will meet you in the part-2\n",
    "\n",
    "## Until then Peace ✌️."
   ]
  }
 ],
 "metadata": {
  "kernelspec": {
   "display_name": "Python 3 (ipykernel)",
   "language": "python",
   "name": "python3"
  },
  "language_info": {
   "codemirror_mode": {
    "name": "ipython",
    "version": 3
   },
   "file_extension": ".py",
   "mimetype": "text/x-python",
   "name": "python",
   "nbconvert_exporter": "python",
   "pygments_lexer": "ipython3",
   "version": "3.9.13"
  }
 },
 "nbformat": 4,
 "nbformat_minor": 5
}
